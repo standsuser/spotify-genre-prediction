{
  "cells": [
    {
      "cell_type": "code",
      "execution_count": 1,
      "metadata": {
        "colab": {
          "base_uri": "https://localhost:8080/"
        },
        "id": "uXj4Xqx1_JgT",
        "outputId": "cc37fb74-fb1e-43b8-caf2-68bce85ff644"
      },
      "outputs": [
        {
          "name": "stdout",
          "output_type": "stream",
          "text": [
            "Collecting pyspark\n",
            "  Downloading pyspark-3.5.1.tar.gz (317.0 MB)\n",
            "\u001b[2K     \u001b[90m━━━━━━━━━━━━━━━━━━━━━━━━━━━━━━━━━━━━━━━━\u001b[0m \u001b[32m317.0/317.0 MB\u001b[0m \u001b[31m3.0 MB/s\u001b[0m eta \u001b[36m0:00:00\u001b[0m\n",
            "\u001b[?25h  Preparing metadata (setup.py) ... \u001b[?25l\u001b[?25hdone\n",
            "Requirement already satisfied: py4j==0.10.9.7 in /usr/local/lib/python3.10/dist-packages (from pyspark) (0.10.9.7)\n",
            "Building wheels for collected packages: pyspark\n",
            "  Building wheel for pyspark (setup.py) ... \u001b[?25l\u001b[?25hdone\n",
            "  Created wheel for pyspark: filename=pyspark-3.5.1-py2.py3-none-any.whl size=317488491 sha256=0c5dbcce7022be5b24f3e9fcc70805a80bc1dc983d0534daf555bac5038a99b4\n",
            "  Stored in directory: /root/.cache/pip/wheels/80/1d/60/2c256ed38dddce2fdd93be545214a63e02fbd8d74fb0b7f3a6\n",
            "Successfully built pyspark\n",
            "Installing collected packages: pyspark\n",
            "Successfully installed pyspark-3.5.1\n"
          ]
        }
      ],
      "source": [
        "!pip install pyspark"
      ]
    },
    {
      "cell_type": "code",
      "execution_count": 2,
      "metadata": {
        "id": "Ym4VSy9NfOrZ"
      },
      "outputs": [],
      "source": [
        "from pyspark.sql import SparkSession\n",
        "from pyspark.ml import Pipeline\n",
        "from pyspark.ml.feature import VectorAssembler\n",
        "from pyspark.ml.classification import LogisticRegression\n",
        "from sklearn.metrics import accuracy_score"
      ]
    },
    {
      "cell_type": "markdown",
      "metadata": {
        "id": "2VHH3r0QhCH9"
      },
      "source": [
        "# Reading the Dataset"
      ]
    },
    {
      "cell_type": "code",
      "execution_count": 3,
      "metadata": {
        "id": "NF0rAFz2hBi3"
      },
      "outputs": [],
      "source": [
        "spark = SparkSession.builder.appName('musicstreaming').getOrCreate()\n",
        "df = spark.read.csv('music_streaming.csv', header = True, inferSchema = True)"
      ]
    },
    {
      "cell_type": "markdown",
      "metadata": {
        "id": "9l_rn1zSffTW"
      },
      "source": [
        "# data cleaning & engineering"
      ]
    },
    {
      "cell_type": "code",
      "execution_count": 4,
      "metadata": {
        "colab": {
          "base_uri": "https://localhost:8080/"
        },
        "id": "jwrNpP1UfcfQ",
        "outputId": "be99836c-da68-41ec-d944-71a5b8763481"
      },
      "outputs": [
        {
          "name": "stdout",
          "output_type": "stream",
          "text": [
            "root\n",
            " |-- Artist Name: string (nullable = true)\n",
            " |-- Track Name: string (nullable = true)\n",
            " |-- Popularity: string (nullable = true)\n",
            " |-- danceability: string (nullable = true)\n",
            " |-- energy: string (nullable = true)\n",
            " |-- key: integer (nullable = true)\n",
            " |-- loudness: double (nullable = true)\n",
            " |-- mode: double (nullable = true)\n",
            " |-- speechiness: double (nullable = true)\n",
            " |-- acousticness: double (nullable = true)\n",
            " |-- instrumentalness: double (nullable = true)\n",
            " |-- liveness: double (nullable = true)\n",
            " |-- valence: double (nullable = true)\n",
            " |-- tempo: double (nullable = true)\n",
            " |-- duration_in min/ms: double (nullable = true)\n",
            " |-- time_signature: double (nullable = true)\n",
            " |-- Genre: double (nullable = true)\n",
            "\n"
          ]
        }
      ],
      "source": [
        "df.printSchema()"
      ]
    },
    {
      "cell_type": "code",
      "execution_count": 5,
      "metadata": {
        "colab": {
          "base_uri": "https://localhost:8080/"
        },
        "id": "vqGA3w4U9n6y",
        "outputId": "9f540f1e-6d65-4f1c-9e20-479157eb0344"
      },
      "outputs": [
        {
          "name": "stdout",
          "output_type": "stream",
          "text": [
            "+--------------------+--------------------+----------+------------+------+---+--------+----+-----------+------------+----------------+--------+-------+-------+------------------+--------------+-----+\n",
            "|         Artist Name|          Track Name|Popularity|danceability|energy|key|loudness|mode|speechiness|acousticness|instrumentalness|liveness|valence|  tempo|duration_in min/ms|time_signature|Genre|\n",
            "+--------------------+--------------------+----------+------------+------+---+--------+----+-----------+------------+----------------+--------+-------+-------+------------------+--------------+-----+\n",
            "|          Bruno Mars|That's What I Lik...|        60|       0.854| 0.564|  1|  -4.964| 1.0|     0.0485|      0.0171|            NULL|  0.0849|  0.899|134.071|          234596.0|           4.0|  5.0|\n",
            "|              Boston|        Hitch a Ride|        54|       0.382| 0.814|  3|   -7.23| 1.0|     0.0406|      0.0011|         0.00401|   0.101|  0.569|116.454|          251733.0|           4.0| 10.0|\n",
            "|       The Raincoats|  No Side to Fall In|        35|       0.434| 0.614|  6|  -8.334| 1.0|     0.0525|       0.486|         1.96E-4|   0.394|  0.787|147.681|          109667.0|           4.0|  6.0|\n",
            "|                Deno|Lingo (feat. J.I ...|        66|       0.853| 0.597| 10|  -6.528| 0.0|     0.0555|      0.0212|            NULL|   0.122|  0.569|107.033|          173968.0|           4.0|  5.0|\n",
            "|Red Hot Chili Pep...|Nobody Weird Like...|        53|       0.167| 0.975|  2|  -4.279| 1.0|      0.216|     1.69E-4|          0.0161|   0.172| 0.0918| 199.06|          229960.0|           4.0| 10.0|\n",
            "|         The Stooges|Search and Destro...|        53|       0.235| 0.977|  6|   0.878| 1.0|      0.107|     0.00353|         0.00604|   0.172|  0.241|152.952|          208133.0|           4.0|  6.0|\n",
            "|       Solomon Burke| None Of Us Are Free|        48|       0.674| 0.658|  5|  -9.647| 0.0|      0.104|       0.404|         1.34E-6|  0.0981|  0.677|143.292|          329387.0|           4.0|  2.0|\n",
            "|        Randy Travis|   On the Other Hand|        55|       0.657| 0.415|  5|  -9.915| 1.0|      0.025|       0.175|         5.65E-6|   0.132|  0.347|  96.03|       3.105783333|           4.0|  4.0|\n",
            "|Professional Murd...|                Slow|        29|       0.431| 0.776| 10|  -5.403| 1.0|     0.0527|     2.21E-5|          0.0013|   0.179|  0.318|120.857|          237867.0|           4.0|  8.0|\n",
            "|       Mohammed Rafi|Meri Dosti Mera Pyar|        11|       0.491| 0.563|  7|  -8.588| 0.0|     0.0331|       0.957|          0.0023|   0.263|  0.843| 95.558|           4.33045|           4.0|  3.0|\n",
            "|      Arctic Monkeys|The View From The...|        59|       0.387| 0.922|  9|  -5.192| 0.0|     0.0674|     0.00487|            NULL|   0.187|  0.417|146.478|          222947.0|           4.0| 10.0|\n",
            "|Harald Lassen, Br...|  How it feels pt. 2|        34|       0.462| 0.374| 11| -12.069| 0.0|     0.0331|       0.949|           0.929|   0.131|  0.174|122.939|           4.44025|           3.0|  7.0|\n",
            "| Buffalo Springfield| For What It's Worth|        76|       0.653| 0.519|  2| -10.164| 1.0|     0.0497|       0.406|          0.0209|   0.101|  0.822| 98.883|          153693.0|           4.0| 10.0|\n",
            "|        Elmore James|       Madison Blues|        37|       0.431| 0.852|  2|  -6.522| 1.0|     0.0431|       0.564|           0.208|   0.254|  0.794| 67.601|          146800.0|           4.0|  2.0|\n",
            "|  Velvet Two Stripes|              Drinks|        31|       0.564| 0.801|  1|   -4.73| 0.0|     0.0473|     0.00233|          0.0078|   0.067|  0.401| 105.01|          154293.0|           4.0| 10.0|\n",
            "|              DaBaby|Baby Sitter (feat...|        70|       0.852|  0.73|  1|  -5.803| 1.0|     0.0579|      0.0219|            NULL|   0.336|  0.394| 92.506|          157693.0|           4.0|  5.0|\n",
            "|           Mura Masa|Teenage Headache ...|        48|       0.347| 0.411|  6|  -8.071| 1.0|     0.0414|      0.0181|           0.636|  0.0975|  0.395|171.991|          283013.0|           4.0|  6.0|\n",
            "|Clairmont The Second|         intres-ting|        44|       0.796| 0.441|  7|   -9.83| 1.0|      0.292|        0.16|         2.89E-5|   0.118|  0.371|158.105|          137872.0|           4.0|  1.0|\n",
            "|           Krankhead|          Cut Throat|        29|       0.805| 0.448|  7|  -9.452| 1.0|      0.112|      0.0602|         1.79E-6|   0.113|  0.775|160.018|          138000.0|           4.0|  5.0|\n",
            "|     The Stone Roses|       Driving South|        44|       0.472| 0.947|  9|  -6.128| 1.0|     0.0774|     9.43E-6|          0.0155|   0.364|   0.75| 98.784|          309867.0|           4.0| 10.0|\n",
            "+--------------------+--------------------+----------+------------+------+---+--------+----+-----------+------------+----------------+--------+-------+-------+------------------+--------------+-----+\n",
            "only showing top 20 rows\n",
            "\n"
          ]
        }
      ],
      "source": [
        "df.show()"
      ]
    },
    {
      "cell_type": "code",
      "execution_count": 6,
      "metadata": {
        "id": "ExnoaSxMA1Z7"
      },
      "outputs": [],
      "source": [
        "#drop missing values\n",
        "df = df.na.drop()"
      ]
    },
    {
      "cell_type": "code",
      "execution_count": 7,
      "metadata": {
        "id": "55kpv691A58k"
      },
      "outputs": [],
      "source": [
        "#drop duplicates\n",
        "df = df.dropDuplicates()"
      ]
    },
    {
      "cell_type": "code",
      "execution_count": 8,
      "metadata": {
        "colab": {
          "base_uri": "https://localhost:8080/"
        },
        "id": "LaLE0naWB7L6",
        "outputId": "ed2738a3-acd9-455c-fe53-27c093db1f10"
      },
      "outputs": [
        {
          "data": {
            "text/plain": [
              "[('Artist Name', 'string'),\n",
              " ('Track Name', 'string'),\n",
              " ('Popularity', 'string'),\n",
              " ('danceability', 'string'),\n",
              " ('energy', 'string'),\n",
              " ('key', 'int'),\n",
              " ('loudness', 'double'),\n",
              " ('mode', 'double'),\n",
              " ('speechiness', 'double'),\n",
              " ('acousticness', 'double'),\n",
              " ('instrumentalness', 'double'),\n",
              " ('liveness', 'double'),\n",
              " ('valence', 'double'),\n",
              " ('tempo', 'double'),\n",
              " ('duration_in min/ms', 'double'),\n",
              " ('time_signature', 'double'),\n",
              " ('Genre', 'double')]"
            ]
          },
          "execution_count": 8,
          "metadata": {},
          "output_type": "execute_result"
        }
      ],
      "source": [
        "df.dtypes"
      ]
    },
    {
      "cell_type": "markdown",
      "metadata": {
        "id": "5asxtXRoFJgk"
      },
      "source": [
        "# Queries (SparkSQL)\n"
      ]
    },
    {
      "cell_type": "code",
      "execution_count": 9,
      "metadata": {
        "id": "vsZNCIldFVmi"
      },
      "outputs": [],
      "source": [
        "# Register DataFrame as a table for Spark SQL\n",
        "df.createOrReplaceTempView(\"songs\")"
      ]
    },
    {
      "cell_type": "code",
      "execution_count": 10,
      "metadata": {
        "colab": {
          "base_uri": "https://localhost:8080/"
        },
        "id": "y_bps9zuFOjc",
        "outputId": "c05afd45-11ff-4e19-bf5a-e7a5b3f9157a"
      },
      "outputs": [
        {
          "name": "stdout",
          "output_type": "stream",
          "text": [
            "+-----+------------------+\n",
            "|Genre|    avg_popularity|\n",
            "+-----+------------------+\n",
            "|  4.0|55.140845070422536|\n",
            "+-----+------------------+\n",
            "\n"
          ]
        }
      ],
      "source": [
        "# a) Which genre has the highest average popularity?\n",
        "query_a_sql = \"\"\"\n",
        "SELECT Genre, AVG(CAST(Popularity AS DOUBLE)) AS avg_popularity\n",
        "FROM songs\n",
        "GROUP BY Genre\n",
        "ORDER BY avg_popularity DESC\n",
        "LIMIT 1\n",
        "\"\"\"\n",
        "result_a_sql = spark.sql(query_a_sql)\n",
        "result_a_sql.show()"
      ]
    },
    {
      "cell_type": "code",
      "execution_count": 11,
      "metadata": {
        "colab": {
          "base_uri": "https://localhost:8080/"
        },
        "id": "5MSHiogUFY5N",
        "outputId": "7101837f-cbdc-4d1e-c88f-2ab74c59ef48"
      },
      "outputs": [
        {
          "name": "stdout",
          "output_type": "stream",
          "text": [
            "+------------------+---------+\n",
            "|       Artist Name|num_songs|\n",
            "+------------------+---------+\n",
            "|The Rolling Stones|       26|\n",
            "+------------------+---------+\n",
            "\n"
          ]
        }
      ],
      "source": [
        "# b) Display which artist has recorded the most number of songs with a duration of more than 5 minutes (Spark SQL)\n",
        "query_b_sql = \"\"\"\n",
        "SELECT `Artist Name`, COUNT(*) AS num_songs\n",
        "FROM songs\n",
        "WHERE `duration_in min/ms` > 5\n",
        "GROUP BY `Artist Name`\n",
        "ORDER BY num_songs DESC\n",
        "LIMIT 1\n",
        "\"\"\"\n",
        "\n",
        "result_b_sql = spark.sql(query_b_sql)\n",
        "result_b_sql.show()"
      ]
    },
    {
      "cell_type": "code",
      "execution_count": 12,
      "metadata": {
        "colab": {
          "base_uri": "https://localhost:8080/"
        },
        "id": "Q0mEbqrfFcRj",
        "outputId": "8b17ec62-b043-41a1-dea1-b9f230210485"
      },
      "outputs": [
        {
          "name": "stdout",
          "output_type": "stream",
          "text": [
            "+-------+---------+\n",
            "|  Genre|num_songs|\n",
            "+-------+---------+\n",
            "|   10.0|     2919|\n",
            "|    6.0|     1783|\n",
            "|    8.0|     1397|\n",
            "|    1.0|      958|\n",
            "|    2.0|      892|\n",
            "|    9.0|      845|\n",
            "|    5.0|      420|\n",
            "|    7.0|      372|\n",
            "|    0.0|      362|\n",
            "|    3.0|      247|\n",
            "|    4.0|      142|\n",
            "|117.017|        1|\n",
            "+-------+---------+\n",
            "\n"
          ]
        }
      ],
      "source": [
        "# c) How many songs are included in every Genre? (Spark SQL)\n",
        "query_c_sql = \"\"\"\n",
        "SELECT Genre, COUNT(*) AS num_songs\n",
        "FROM songs\n",
        "GROUP BY Genre\n",
        "ORDER BY num_songs DESC\n",
        "\"\"\"\n",
        "\n",
        "result_c_sql = spark.sql(query_c_sql)\n",
        "result_c_sql.show()"
      ]
    },
    {
      "cell_type": "code",
      "execution_count": 13,
      "metadata": {
        "colab": {
          "base_uri": "https://localhost:8080/"
        },
        "id": "FNVj2zEaF5oi",
        "outputId": "1ece22ac-8666-4e10-b8b3-971374537608"
      },
      "outputs": [
        {
          "name": "stdout",
          "output_type": "stream",
          "text": [
            "+------------------+---------+\n",
            "|       Artist Name|num_songs|\n",
            "+------------------+---------+\n",
            "|The Rolling Stones|       28|\n",
            "|    Britney Spears|       27|\n",
            "|                U2|       25|\n",
            "|         Metallica|       24|\n",
            "|      Led Zeppelin|       22|\n",
            "+------------------+---------+\n",
            "\n"
          ]
        }
      ],
      "source": [
        "# d) Which artists dominated the charts? (Spark SQL)\n",
        "query_d_sql = \"\"\"\n",
        "SELECT `Artist Name`, COUNT(*) AS num_songs\n",
        "FROM songs\n",
        "GROUP BY `Artist Name`\n",
        "ORDER BY num_songs DESC\n",
        "LIMIT 5\n",
        "\"\"\"\n",
        "\n",
        "result_d_sql = spark.sql(query_d_sql)\n",
        "result_d_sql.show()"
      ]
    },
    {
      "cell_type": "code",
      "execution_count": 14,
      "metadata": {
        "colab": {
          "base_uri": "https://localhost:8080/"
        },
        "id": "Z6TZ4N-7F7tL",
        "outputId": "8acc4805-0bee-4ab3-c870-3149bebd256d"
      },
      "outputs": [
        {
          "name": "stdout",
          "output_type": "stream",
          "text": [
            "+---------------+--------------------+------+------------+-------+\n",
            "|    Artist Name|          Track Name|energy|danceability|valence|\n",
            "+---------------+--------------------+------+------------+-------+\n",
            "|LCD Soundsystem|Daft Punk Is Play...| 0.856|       0.921|  0.976|\n",
            "|  Isaiah Rashad|Lay Wit Ya (feat....| 0.859|       0.925|  0.967|\n",
            "|    Killer Mike|          Kryptonite| 0.916|       0.863|  0.964|\n",
            "|        Shampoo|             Trouble| 0.971|       0.796|  0.963|\n",
            "|   Prince Rapid|Gladiator - Instr...| 0.972|        0.78|  0.958|\n",
            "+---------------+--------------------+------+------------+-------+\n",
            "\n"
          ]
        }
      ],
      "source": [
        "# e) Recommend at least 5 fun/not-boring songs that can be played at a party (Spark SQL)\n",
        "query_e_sql = \"\"\"\n",
        "SELECT `Artist Name`, `Track Name`, energy, danceability, valence\n",
        "FROM songs\n",
        "ORDER BY (energy + danceability + valence) DESC\n",
        "LIMIT 5\n",
        "\"\"\"\n",
        "\n",
        "result_e_sql = spark.sql(query_e_sql)\n",
        "result_e_sql.show()"
      ]
    }
  ],
  "metadata": {
    "colab": {
      "provenance": []
    },
    "kernelspec": {
      "display_name": "Python 3",
      "name": "python3"
    },
    "language_info": {
      "name": "python"
    }
  },
  "nbformat": 4,
  "nbformat_minor": 0
}
